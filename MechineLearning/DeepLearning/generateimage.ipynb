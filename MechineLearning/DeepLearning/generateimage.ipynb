{
 "cells": [
  {
   "cell_type": "code",
   "execution_count": 30,
   "metadata": {},
   "outputs": [],
   "source": [
    "from PIL import Image\n",
    "from keras.preprocessing.image import array_to_img, img_to_array\n",
    "import numpy as np\n",
    "import keras as keras\n",
    "\n",
    "# Generate random image data\n",
    "img_data = np.random.random(size=(100, 100, 3))\n",
    "\n",
    "# Convert the numpy array to an image\n",
    "img = array_to_img(img_data)\n",
    "\n",
    "# Convert the image back to a numpy array\n",
    "array = img_to_array(img)\n",
    "\n",
    "# print(array)\n",
    "path = \"../../random_image.png\"\n",
    "\n",
    "keras.utils.save_img(\n",
    "    path, array, data_format=None, file_format=None, scale=True\n",
    ")"
   ]
  }
 ],
 "metadata": {
  "kernelspec": {
   "display_name": "Data Science",
   "language": "python",
   "name": "python3"
  },
  "language_info": {
   "codemirror_mode": {
    "name": "ipython",
    "version": 3
   },
   "file_extension": ".py",
   "mimetype": "text/x-python",
   "name": "python",
   "nbconvert_exporter": "python",
   "pygments_lexer": "ipython3",
   "version": "3.12.2"
  }
 },
 "nbformat": 4,
 "nbformat_minor": 2
}
