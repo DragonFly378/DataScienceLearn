{
 "cells": [
  {
   "cell_type": "code",
   "execution_count": 46,
   "metadata": {},
   "outputs": [],
   "source": [
    "from sklearn import datasets\n",
    "from sklearn.model_selection import train_test_split\n",
    "import pandas as pd\n",
    "\n",
    "df_iris = pd.read_csv('../../data_samples/Iris.csv')\n",
    "# iris = datasets.load_iris()\n",
    "# atribut = iris.data\n",
    "# label = iris.target\n",
    "\n",
    "\n",
    "# Memisahkan atribut dan label\n",
    "df_attr = df_iris[['SepalLengthCm',\t'SepalWidthCm',\t'PetalLengthCm', 'PetalWidthCm']]\n",
    "df_label = df_iris['Species']\n",
    "# print(df_iris)\n",
    "\n",
    "\n",
    "# bagi dataset menjadi train set dan test set\n",
    "X_train, X_test, y_train, y_test = train_test_split(\n",
    "    df_attr, df_label, test_size=0.2, random_state=1)\n",
    "\n"
   ]
  },
  {
   "cell_type": "code",
   "execution_count": 47,
   "metadata": {},
   "outputs": [
    {
     "data": {
      "text/plain": [
       "0.9666666666666667"
      ]
     },
     "execution_count": 47,
     "metadata": {},
     "output_type": "execute_result"
    }
   ],
   "source": [
    "from sklearn import tree\n",
    " \n",
    "decision_tree = tree.DecisionTreeClassifier()\n",
    "model_pertama = decision_tree.fit(X_train, y_train)\n",
    "model_pertama.score(X_test, y_test)"
   ]
  },
  {
   "cell_type": "code",
   "execution_count": 48,
   "metadata": {},
   "outputs": [
    {
     "data": {
      "text/plain": [
       "array([0.92859758, 0.0474831 , 0.0193921 , 0.00452721])"
      ]
     },
     "execution_count": 48,
     "metadata": {},
     "output_type": "execute_result"
    }
   ],
   "source": [
    "from sklearn.decomposition import PCA\n",
    " \n",
    "# membuat objek PCA dengan 4 principal component\n",
    "pca = PCA(n_components=4)\n",
    " \n",
    "# mengaplikasikan PCA pada dataset\n",
    "pca_attributes = pca.fit_transform(X_train)\n",
    " \n",
    "# melihat variance dari setiap atribut\n",
    "pca.explained_variance_ratio_"
   ]
  },
  {
   "cell_type": "code",
   "execution_count": 49,
   "metadata": {},
   "outputs": [],
   "source": [
    "# PCA dengan 2 principal component\n",
    "pca2 = PCA(n_components = 2)\n",
    "X_train_pca = pca2.fit_transform(X_train)\n",
    "X_test_pca = pca2.fit_transform(X_test)"
   ]
  },
  {
   "cell_type": "code",
   "execution_count": 50,
   "metadata": {},
   "outputs": [
    {
     "data": {
      "text/plain": [
       "0.9333333333333333"
      ]
     },
     "execution_count": 50,
     "metadata": {},
     "output_type": "execute_result"
    }
   ],
   "source": [
    "# uji akurasi classifier\n",
    "model_kedua = decision_tree.fit(X_train_pca, y_train)\n",
    "model_kedua.score(X_test_pca, y_test)"
   ]
  }
 ],
 "metadata": {
  "kernelspec": {
   "display_name": "Data Science",
   "language": "python",
   "name": "python3"
  },
  "language_info": {
   "codemirror_mode": {
    "name": "ipython",
    "version": 3
   },
   "file_extension": ".py",
   "mimetype": "text/x-python",
   "name": "python",
   "nbconvert_exporter": "python",
   "pygments_lexer": "ipython3",
   "version": "3.12.2"
  }
 },
 "nbformat": 4,
 "nbformat_minor": 2
}
