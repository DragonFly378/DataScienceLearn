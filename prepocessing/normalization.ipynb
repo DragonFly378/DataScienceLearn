{
 "cells": [
  {
   "cell_type": "code",
   "execution_count": 37,
   "metadata": {},
   "outputs": [
    {
     "name": "stdout",
     "output_type": "stream",
     "text": [
      "       longitude  latitude  housing_median_age  total_rooms  total_bedrooms  \\\n",
      "0        -114.31     34.19                15.0       5612.0          1283.0   \n",
      "1        -114.47     34.40                19.0       7650.0          1901.0   \n",
      "2        -114.56     33.69                17.0        720.0           174.0   \n",
      "3        -114.57     33.64                14.0       1501.0           337.0   \n",
      "4        -114.57     33.57                20.0       1454.0           326.0   \n",
      "...          ...       ...                 ...          ...             ...   \n",
      "16995    -124.26     40.58                52.0       2217.0           394.0   \n",
      "16996    -124.27     40.69                36.0       2349.0           528.0   \n",
      "16997    -124.30     41.84                17.0       2677.0           531.0   \n",
      "16998    -124.30     41.80                19.0       2672.0           552.0   \n",
      "16999    -124.35     40.54                52.0       1820.0           300.0   \n",
      "\n",
      "       population  households  median_income  median_house_value  \n",
      "0          1015.0       472.0         1.4936             66900.0  \n",
      "1          1129.0       463.0         1.8200             80100.0  \n",
      "2           333.0       117.0         1.6509             85700.0  \n",
      "3           515.0       226.0         3.1917             73400.0  \n",
      "4           624.0       262.0         1.9250             65500.0  \n",
      "...           ...         ...            ...                 ...  \n",
      "16995       907.0       369.0         2.3571            111400.0  \n",
      "16996      1194.0       465.0         2.5179             79000.0  \n",
      "16997      1244.0       456.0         3.0313            103600.0  \n",
      "16998      1298.0       478.0         1.9797             85800.0  \n",
      "16999       806.0       270.0         3.0147             94600.0  \n",
      "\n",
      "[17000 rows x 9 columns]\n"
     ]
    }
   ],
   "source": [
    "import numpy as np\n",
    "from sklearn import preprocessing\n",
    "from sklearn.datasets import fetch_california_housing\n",
    "import pandas as pd\n",
    "\n",
    "# create the DataFrame\n",
    "# california_housing = fetch_california_housing(as_frame=True)\n",
    "# df_tmp = preprocessing.normalize(california_housing.data)\n",
    "# df_california_housing = pd.DataFrame(df_tmp, columns=california_housing.data.columns)\n",
    "# print(df_california_housing)\n",
    "\n",
    "# create the DataFrame\n",
    "df_california_housing = pd.read_csv('../data_samples/california_housing_train.csv')\n",
    "print(df_california_housing)"
   ]
  },
  {
   "cell_type": "code",
   "execution_count": 38,
   "metadata": {},
   "outputs": [
    {
     "name": "stdout",
     "output_type": "stream",
     "text": [
      "HouseAge array:  [15. 19. 17. ... 17. 19. 52.]\n",
      "Normalized HouseAge array:  [[0.00368292 0.00466503 0.00417398 ... 0.00417398 0.00466503 0.01276746]]\n"
     ]
    }
   ],
   "source": [
    "x_array = np.array(df_california_housing['housing_median_age'])\n",
    "print(\"HouseAge array: \",x_array)\n",
    "\n",
    "normalized_arr = preprocessing.normalize([x_array])\n",
    "print(\"Normalized HouseAge array: \",normalized_arr)\n"
   ]
  },
  {
   "cell_type": "code",
   "execution_count": 39,
   "metadata": {},
   "outputs": [
    {
     "name": "stdout",
     "output_type": "stream",
     "text": [
      "       longitude  latitude  housing_median_age  total_rooms  total_bedrooms  \\\n",
      "0      -0.007332  0.007347            0.003683     0.012562        0.014375   \n",
      "1      -0.007342  0.007393            0.004665     0.017123        0.021299   \n",
      "2      -0.007348  0.007240            0.004174     0.001612        0.001949   \n",
      "3      -0.007348  0.007229            0.003437     0.003360        0.003776   \n",
      "4      -0.007348  0.007214            0.004911     0.003255        0.003652   \n",
      "...          ...       ...                 ...          ...             ...   \n",
      "16995  -0.007970  0.008721            0.012767     0.004962        0.004414   \n",
      "16996  -0.007971  0.008744            0.008839     0.005258        0.005916   \n",
      "16997  -0.007972  0.008991            0.004174     0.005992        0.005949   \n",
      "16998  -0.007972  0.008983            0.004665     0.005981        0.006185   \n",
      "16999  -0.007976  0.008712            0.012767     0.004074        0.003361   \n",
      "\n",
      "       population  households  median_income  median_house_value  \n",
      "0        0.004246    0.005730       0.002647            0.002160  \n",
      "1        0.004723    0.005621       0.003226            0.002586  \n",
      "2        0.001393    0.001420       0.002926            0.002767  \n",
      "3        0.002154    0.002744       0.005657            0.002370  \n",
      "4        0.002610    0.003181       0.003412            0.002115  \n",
      "...           ...         ...            ...                 ...  \n",
      "16995    0.003794    0.004480       0.004178            0.003597  \n",
      "16996    0.004995    0.005646       0.004463            0.002551  \n",
      "16997    0.005204    0.005536       0.005373            0.003345  \n",
      "16998    0.005430    0.005803       0.003509            0.002770  \n",
      "16999    0.003372    0.003278       0.005344            0.003054  \n",
      "\n",
      "[17000 rows x 9 columns]\n"
     ]
    }
   ],
   "source": [
    "d = preprocessing.normalize(df_california_housing, axis=0)\n",
    "scaled_df = pd.DataFrame(d, columns=df_california_housing.columns)\n",
    "print(scaled_df)"
   ]
  },
  {
   "cell_type": "code",
   "execution_count": 40,
   "metadata": {},
   "outputs": [
    {
     "name": "stdout",
     "output_type": "stream",
     "text": [
      "       longitude  latitude  housing_median_age  total_rooms  total_bedrooms  \\\n",
      "0       1.000000  0.175345            0.274510     0.147885        0.198945   \n",
      "1       0.984064  0.197662            0.352941     0.201608        0.294848   \n",
      "2       0.975100  0.122210            0.313725     0.018927        0.026847   \n",
      "3       0.974104  0.116897            0.254902     0.039515        0.052142   \n",
      "4       0.974104  0.109458            0.372549     0.038276        0.050435   \n",
      "...          ...       ...                 ...          ...             ...   \n",
      "16995   0.008964  0.854410            1.000000     0.058389        0.060987   \n",
      "16996   0.007968  0.866100            0.686275     0.061869        0.081782   \n",
      "16997   0.004980  0.988310            0.313725     0.070515        0.082247   \n",
      "16998   0.004980  0.984060            0.352941     0.070384        0.085506   \n",
      "16999   0.000000  0.850159            1.000000     0.047924        0.046400   \n",
      "\n",
      "       population  households  median_income  median_house_value  \n",
      "0        0.028364    0.077454       0.068530            0.107012  \n",
      "1        0.031559    0.075974       0.091040            0.134228  \n",
      "2        0.009249    0.019076       0.079378            0.145775  \n",
      "3        0.014350    0.037000       0.185639            0.120414  \n",
      "4        0.017405    0.042921       0.098281            0.104125  \n",
      "...           ...         ...            ...                 ...  \n",
      "16995    0.025337    0.060516       0.128081            0.198764  \n",
      "16996    0.033381    0.076303       0.139170            0.131960  \n",
      "16997    0.034782    0.074823       0.174577            0.182682  \n",
      "16998    0.036296    0.078441       0.102054            0.145981  \n",
      "16999    0.022506    0.044236       0.173432            0.164125  \n",
      "\n",
      "[17000 rows x 9 columns]\n"
     ]
    }
   ],
   "source": [
    "# Normalization using MinMaxScaler\n",
    "\n",
    "scaler = preprocessing.MinMaxScaler()\n",
    "d = scaler.fit_transform(df_california_housing)\n",
    "scaled_df = pd.DataFrame(d, columns=df_california_housing.columns)\n",
    "print(scaled_df)"
   ]
  }
 ],
 "metadata": {
  "kernelspec": {
   "display_name": "Data Science",
   "language": "python",
   "name": "python3"
  },
  "language_info": {
   "codemirror_mode": {
    "name": "ipython",
    "version": 3
   },
   "file_extension": ".py",
   "mimetype": "text/x-python",
   "name": "python",
   "nbconvert_exporter": "python",
   "pygments_lexer": "ipython3",
   "version": "3.12.2"
  }
 },
 "nbformat": 4,
 "nbformat_minor": 2
}
