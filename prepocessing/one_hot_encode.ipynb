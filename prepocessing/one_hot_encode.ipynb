{
 "cells": [
  {
   "cell_type": "code",
   "execution_count": 71,
   "metadata": {},
   "outputs": [
    {
     "name": "stdout",
     "output_type": "stream",
     "text": [
      "0       Male\n",
      "1     Female\n",
      "2       Male\n",
      "3       Male\n",
      "4     Female\n",
      "5       Male\n",
      "6       Male\n",
      "7       Male\n",
      "8     Female\n",
      "9       Male\n",
      "10      Male\n",
      "11    Female\n",
      "12      Male\n",
      "13      Male\n",
      "14      Male\n",
      "15      Male\n",
      "16    Female\n",
      "17      Male\n",
      "18      Male\n",
      "19    Female\n",
      "20      Male\n",
      "21      Male\n",
      "22      Male\n",
      "23    Female\n",
      "24      Male\n",
      "25      Male\n",
      "26    Female\n",
      "27      Male\n",
      "28      Male\n",
      "29      Male\n",
      "30      Male\n",
      "31    Female\n",
      "Name: gender, dtype: object\n",
      "['Male' 'Female']\n",
      "['Nice' 'Good' 'Great']\n"
     ]
    }
   ],
   "source": [
    "import pandas as pd\n",
    "\n",
    "\n",
    "df = pd.read_csv('../data_samples/one_hot_samples.csv')\n",
    "print(df.head())\n",
    "\n",
    "print(df['gender'].unique())\n",
    "print(df['remark'].unique())"
   ]
  },
  {
   "cell_type": "code",
   "execution_count": 72,
   "metadata": {},
   "outputs": [
    {
     "name": "stdout",
     "output_type": "stream",
     "text": [
      "    gender_Female  gender_Male  remark_Good  remark_Great  remark_Nice\n",
      "0               0            1            0             0            1\n",
      "1               1            0            1             0            0\n",
      "2               0            1            0             0            1\n",
      "3               0            1            0             1            0\n",
      "4               1            0            0             1            0\n",
      "5               0            1            1             0            0\n",
      "6               0            1            0             0            1\n",
      "7               0            1            0             1            0\n",
      "8               1            0            0             1            0\n",
      "9               0            1            0             1            0\n",
      "10              0            1            0             1            0\n",
      "11              1            0            1             0            0\n",
      "12              0            1            0             0            1\n",
      "13              0            1            1             0            0\n",
      "14              0            1            0             0            1\n",
      "15              0            1            0             1            0\n",
      "16              1            0            0             1            0\n",
      "17              0            1            1             0            0\n",
      "18              0            1            0             0            1\n",
      "19              1            0            0             1            0\n",
      "20              0            1            0             1            0\n",
      "21              0            1            0             1            0\n",
      "22              0            1            0             1            0\n",
      "23              1            0            1             0            0\n",
      "24              0            1            0             0            1\n",
      "25              0            1            1             0            0\n",
      "26              1            0            0             0            1\n",
      "27              0            1            0             1            0\n",
      "28              0            1            0             1            0\n",
      "29              0            1            1             0            0\n",
      "30              0            1            0             0            1\n",
      "31              1            0            0             0            1\n"
     ]
    }
   ],
   "source": [
    "df = df.drop(columns=['employe_id'])\n",
    "df = df, pd.get_dummies(df,columns=['gender', 'remark'], dtype=int)\n",
    "print(df[1])"
   ]
  },
  {
   "cell_type": "code",
   "execution_count": 73,
   "metadata": {},
   "outputs": [
    {
     "name": "stdout",
     "output_type": "stream",
     "text": [
      "   gender remark  gender_Female  gender_Male  remark_Good  remark_Great  \\\n",
      "0    Male   Nice              0            1            0             0   \n",
      "1  Female   Good              1            0            1             0   \n",
      "2    Male   Nice              0            1            0             0   \n",
      "3    Male  Great              0            1            0             1   \n",
      "4  Female  Great              1            0            0             1   \n",
      "\n",
      "   remark_Nice  \n",
      "0            1  \n",
      "1            0  \n",
      "2            1  \n",
      "3            0  \n",
      "4            0  \n"
     ]
    }
   ],
   "source": [
    "df = pd.concat(df, axis=1).head()\n",
    "print(df)"
   ]
  }
 ],
 "metadata": {
  "kernelspec": {
   "display_name": "Data Science",
   "language": "python",
   "name": "python3"
  },
  "language_info": {
   "codemirror_mode": {
    "name": "ipython",
    "version": 3
   },
   "file_extension": ".py",
   "mimetype": "text/x-python",
   "name": "python",
   "nbconvert_exporter": "python",
   "pygments_lexer": "ipython3",
   "version": "3.12.2"
  }
 },
 "nbformat": 4,
 "nbformat_minor": 2
}
