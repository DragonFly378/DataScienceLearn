{
 "cells": [
  {
   "cell_type": "code",
   "execution_count": 29,
   "metadata": {},
   "outputs": [
    {
     "name": "stdout",
     "output_type": "stream",
     "text": [
      "       latitude  total_rooms  housing_median_age\n",
      "0         34.19       5612.0                15.0\n",
      "1         34.40       7650.0                19.0\n",
      "2         33.69        720.0                17.0\n",
      "3         33.64       1501.0                14.0\n",
      "4         33.57       1454.0                20.0\n",
      "...         ...          ...                 ...\n",
      "16995     40.58       2217.0                52.0\n",
      "16996     40.69       2349.0                36.0\n",
      "16997     41.84       2677.0                17.0\n",
      "16998     41.80       2672.0                19.0\n",
      "16999     40.54       1820.0                52.0\n",
      "\n",
      "[17000 rows x 3 columns]\n"
     ]
    }
   ],
   "source": [
    "from sklearn.datasets import load_iris\n",
    "from sklearn.preprocessing import StandardScaler\n",
    "import pandas as pd\n",
    "\n",
    "object = StandardScaler()\n",
    "\n",
    "df_california_housing = pd.read_csv('../data_samples/california_housing_train.csv')\n",
    "df_tmp = pd.DataFrame(df_california_housing['latitude'])\n",
    "df_tmp = df_tmp.assign(total_rooms=df_california_housing['total_rooms'])\n",
    "df_tmp = df_tmp.assign(housing_median_age=df_california_housing['housing_median_age'])\n",
    "\n",
    "print(df_tmp)"
   ]
  },
  {
   "cell_type": "code",
   "execution_count": 30,
   "metadata": {},
   "outputs": [
    {
     "name": "stdout",
     "output_type": "stream",
     "text": [
      "[[-0.67152023  1.36169494 -1.07967114]\n",
      " [-0.57326437  2.29660752 -0.76187201]\n",
      " [-0.90546278 -0.88246225 -0.92077158]\n",
      " ...\n",
      " [ 2.90780067  0.01529238 -0.92077158]\n",
      " [ 2.88908527  0.01299867 -0.76187201]\n",
      " [ 2.29955006 -0.377848    1.85997083]]\n"
     ]
    }
   ],
   "source": [
    "scale = object.fit_transform(df_tmp) \n",
    "print(scale)"
   ]
  }
 ],
 "metadata": {
  "kernelspec": {
   "display_name": "Data Science",
   "language": "python",
   "name": "python3"
  },
  "language_info": {
   "codemirror_mode": {
    "name": "ipython",
    "version": 3
   },
   "file_extension": ".py",
   "mimetype": "text/x-python",
   "name": "python",
   "nbconvert_exporter": "python",
   "pygments_lexer": "ipython3",
   "version": "3.12.2"
  }
 },
 "nbformat": 4,
 "nbformat_minor": 2
}
